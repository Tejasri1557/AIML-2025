{
  "nbformat": 4,
  "nbformat_minor": 0,
  "metadata": {
    "colab": {
      "provenance": [],
      "authorship_tag": "ABX9TyOMdBk9LSlLkcH0p47FWCaI",
      "include_colab_link": true
    },
    "kernelspec": {
      "name": "python3",
      "display_name": "Python 3"
    },
    "language_info": {
      "name": "python"
    }
  },
  "cells": [
    {
      "cell_type": "markdown",
      "metadata": {
        "id": "view-in-github",
        "colab_type": "text"
      },
      "source": [
        "<a href=\"https://colab.research.google.com/github/Tejasri1557/AIML-2025/blob/main/lab08_AIML.ipynb\" target=\"_parent\"><img src=\"https://colab.research.google.com/assets/colab-badge.svg\" alt=\"Open In Colab\"/></a>"
      ]
    },
    {
      "cell_type": "markdown",
      "source": [
        "1-import the libraries"
      ],
      "metadata": {
        "id": "yHTgd_7phIuj"
      }
    },
    {
      "cell_type": "code",
      "source": [
        "import numpy as np\n",
        "import pandas as pd\n",
        "import seaborn as sns\n",
        "import sklearn\n",
        "from sklearn.datasets import fetch_openml\n",
        "import matplotlib.pyplot as plt\n",
        "%matplotlib inline\n",
        "\n",
        "\n"
      ],
      "metadata": {
        "id": "Sawunu6dhNL3"
      },
      "execution_count": 1,
      "outputs": []
    },
    {
      "cell_type": "code",
      "source": [
        "fetch_openml(data_id=10)"
      ],
      "metadata": {
        "colab": {
          "base_uri": "https://localhost:8080/"
        },
        "id": "hP6bTFTYmiTK",
        "outputId": "db0de167-7922-4a9b-92cc-669d2f8d2ed9"
      },
      "execution_count": 2,
      "outputs": [
        {
          "output_type": "execute_result",
          "data": {
            "text/plain": [
              "{'data':     lymphatics block_of_affere bl_of_lymph_c bl_of_lymph_s by_pass  \\\n",
              " 0       arched             yes            no            no      no   \n",
              " 1    displaced             yes            no            no     yes   \n",
              " 2     deformed              no            no            no     yes   \n",
              " 3       arched              no            no            no      no   \n",
              " 4       arched              no            no            no      no   \n",
              " ..         ...             ...           ...           ...     ...   \n",
              " 143  displaced              no            no            no      no   \n",
              " 144   deformed              no            no            no      no   \n",
              " 145   deformed             yes            no            no     yes   \n",
              " 146   deformed             yes            no            no      no   \n",
              " 147     arched              no            no            no      no   \n",
              " \n",
              "     extravasates regeneration_of early_uptake_in  lym_nodes_dimin  \\\n",
              " 0             no              no             yes                1   \n",
              " 1            yes              no             yes                1   \n",
              " 2            yes             yes              no                3   \n",
              " 3            yes              no             yes                1   \n",
              " 4             no              no              no                1   \n",
              " ..           ...             ...             ...              ...   \n",
              " 143           no              no             yes                1   \n",
              " 144          yes              no             yes                1   \n",
              " 145          yes              no             yes                1   \n",
              " 146           no              no             yes                1   \n",
              " 147           no              no              no                1   \n",
              " \n",
              "      lym_nodes_enlar changes_in_lym defect_in_node changes_in_node  \\\n",
              " 0                  4          round    lac_central         lacunar   \n",
              " 1                  3          round    lac_central         lacunar   \n",
              " 2                  1           bean        lacunar              no   \n",
              " 3                  2           oval     lac_margin      lac_margin   \n",
              " 4                  2          round     lac_margin      lac_margin   \n",
              " ..               ...            ...            ...             ...   \n",
              " 143                3          round        lacunar         lacunar   \n",
              " 144                4          round    lac_central         lacunar   \n",
              " 145                2           oval    lac_central      lac_margin   \n",
              " 146                3           oval        lacunar     lac_central   \n",
              " 147                1           oval    lac_central      lac_margin   \n",
              " \n",
              "     changes_in_stru special_forms dislocation_of exclusion_of_no  \\\n",
              " 0          stripped      vesicles            yes             yes   \n",
              " 1           diluted      vesicles            yes             yes   \n",
              " 2           diluted      vesicles             no              no   \n",
              " 3         drop_like      vesicles             no             yes   \n",
              " 4             faint      vesicles             no              no   \n",
              " ..              ...           ...            ...             ...   \n",
              " 143          coarse      chalices            yes             yes   \n",
              " 144          coarse      vesicles            yes             yes   \n",
              " 145         diluted      chalices            yes             yes   \n",
              " 146           faint      vesicles            yes             yes   \n",
              " 147           faint      chalices            yes             yes   \n",
              " \n",
              "      no_of_nodes_in  \n",
              " 0                 5  \n",
              " 1                 3  \n",
              " 2                 7  \n",
              " 3                 1  \n",
              " 4                 1  \n",
              " ..              ...  \n",
              " 143               2  \n",
              " 144               6  \n",
              " 145               4  \n",
              " 146               3  \n",
              " 147               2  \n",
              " \n",
              " [148 rows x 18 columns],\n",
              " 'target': 0      malign_lymph\n",
              " 1      malign_lymph\n",
              " 2          fibrosis\n",
              " 3      malign_lymph\n",
              " 4        metastases\n",
              "            ...     \n",
              " 143      metastases\n",
              " 144    malign_lymph\n",
              " 145    malign_lymph\n",
              " 146    malign_lymph\n",
              " 147      metastases\n",
              " Name: class, Length: 148, dtype: category\n",
              " Categories (4, object): ['fibrosis', 'malign_lymph', 'metastases', 'normal'],\n",
              " 'frame':     lymphatics block_of_affere bl_of_lymph_c bl_of_lymph_s by_pass  \\\n",
              " 0       arched             yes            no            no      no   \n",
              " 1    displaced             yes            no            no     yes   \n",
              " 2     deformed              no            no            no     yes   \n",
              " 3       arched              no            no            no      no   \n",
              " 4       arched              no            no            no      no   \n",
              " ..         ...             ...           ...           ...     ...   \n",
              " 143  displaced              no            no            no      no   \n",
              " 144   deformed              no            no            no      no   \n",
              " 145   deformed             yes            no            no     yes   \n",
              " 146   deformed             yes            no            no      no   \n",
              " 147     arched              no            no            no      no   \n",
              " \n",
              "     extravasates regeneration_of early_uptake_in  lym_nodes_dimin  \\\n",
              " 0             no              no             yes                1   \n",
              " 1            yes              no             yes                1   \n",
              " 2            yes             yes              no                3   \n",
              " 3            yes              no             yes                1   \n",
              " 4             no              no              no                1   \n",
              " ..           ...             ...             ...              ...   \n",
              " 143           no              no             yes                1   \n",
              " 144          yes              no             yes                1   \n",
              " 145          yes              no             yes                1   \n",
              " 146           no              no             yes                1   \n",
              " 147           no              no              no                1   \n",
              " \n",
              "      lym_nodes_enlar changes_in_lym defect_in_node changes_in_node  \\\n",
              " 0                  4          round    lac_central         lacunar   \n",
              " 1                  3          round    lac_central         lacunar   \n",
              " 2                  1           bean        lacunar              no   \n",
              " 3                  2           oval     lac_margin      lac_margin   \n",
              " 4                  2          round     lac_margin      lac_margin   \n",
              " ..               ...            ...            ...             ...   \n",
              " 143                3          round        lacunar         lacunar   \n",
              " 144                4          round    lac_central         lacunar   \n",
              " 145                2           oval    lac_central      lac_margin   \n",
              " 146                3           oval        lacunar     lac_central   \n",
              " 147                1           oval    lac_central      lac_margin   \n",
              " \n",
              "     changes_in_stru special_forms dislocation_of exclusion_of_no  \\\n",
              " 0          stripped      vesicles            yes             yes   \n",
              " 1           diluted      vesicles            yes             yes   \n",
              " 2           diluted      vesicles             no              no   \n",
              " 3         drop_like      vesicles             no             yes   \n",
              " 4             faint      vesicles             no              no   \n",
              " ..              ...           ...            ...             ...   \n",
              " 143          coarse      chalices            yes             yes   \n",
              " 144          coarse      vesicles            yes             yes   \n",
              " 145         diluted      chalices            yes             yes   \n",
              " 146           faint      vesicles            yes             yes   \n",
              " 147           faint      chalices            yes             yes   \n",
              " \n",
              "      no_of_nodes_in         class  \n",
              " 0                 5  malign_lymph  \n",
              " 1                 3  malign_lymph  \n",
              " 2                 7      fibrosis  \n",
              " 3                 1  malign_lymph  \n",
              " 4                 1    metastases  \n",
              " ..              ...           ...  \n",
              " 143               2    metastases  \n",
              " 144               6  malign_lymph  \n",
              " 145               4  malign_lymph  \n",
              " 146               3  malign_lymph  \n",
              " 147               2    metastases  \n",
              " \n",
              " [148 rows x 19 columns],\n",
              " 'categories': None,\n",
              " 'feature_names': ['lymphatics',\n",
              "  'block_of_affere',\n",
              "  'bl_of_lymph_c',\n",
              "  'bl_of_lymph_s',\n",
              "  'by_pass',\n",
              "  'extravasates',\n",
              "  'regeneration_of',\n",
              "  'early_uptake_in',\n",
              "  'lym_nodes_dimin',\n",
              "  'lym_nodes_enlar',\n",
              "  'changes_in_lym',\n",
              "  'defect_in_node',\n",
              "  'changes_in_node',\n",
              "  'changes_in_stru',\n",
              "  'special_forms',\n",
              "  'dislocation_of',\n",
              "  'exclusion_of_no',\n",
              "  'no_of_nodes_in'],\n",
              " 'target_names': ['class'],\n",
              " 'DESCR': \"**Author**:   \\n**Source**: Unknown -   \\n**Please cite**:   \\n\\nCitation Request:\\n    This lymphography domain was obtained from the University Medical Centre,\\n    Institute of Oncology, Ljubljana, Yugoslavia.  Thanks go to M. Zwitter and \\n    M. Soklic for providing the data.  Please include this citation if you plan\\n    to use this database.\\n \\n 1. Title: Lymphography Domain\\n \\n 2. Sources: \\n     (a) See Above.\\n     (b) Donors: Igor Kononenko, \\n                 University E.Kardelj\\n                 Faculty for electrical engineering\\n                 Trzaska 25\\n                 61000 Ljubljana (tel.: (38)(+61) 265-161\\n \\n                 Bojan Cestnik\\n                 Jozef Stefan Institute\\n                 Jamova 39\\n                 61000 Ljubljana\\n                 Yugoslavia (tel.: (38)(+61) 214-399 ext.287) \\n    (c) Date: November 1988\\n \\n 3. Past Usage: (sveral)\\n     1. Cestnik,G., Konenenko,I, & Bratko,I. (1987). Assistant-86: A\\n        Knowledge-Elicitation Tool for Sophisticated Users.  In I.Bratko\\n        & N.Lavrac (Eds.) Progress in Machine Learning, 31-45, Sigma Press.\\n        -- Assistant-86: 76% accuracy\\n     2. Clark,P. & Niblett,T. (1987). Induction in Noisy Domains.  In\\n        I.Bratko & N.Lavrac (Eds.) Progress in Machine Learning, 11-30,\\n        Sigma Press.\\n        -- Simple Bayes: 83% accuracy\\n        -- CN2 (99% threshold): 82%\\n     3. Michalski,R., Mozetic,I. Hong,J., & Lavrac,N. (1986).  The Multi-Purpose\\n        Incremental Learning System AQ15 and its Testing Applications to Three\\n        Medical Domains.  In Proceedings of the Fifth National Conference on\\n        Artificial Intelligence, 1041-1045. Philadelphia, PA: Morgan Kaufmann.\\n        -- Experts: 85% accuracy (estimate)\\n        -- AQ15: 80-82%\\n \\n 4. Relevant Information:\\n      This is one of three domains provided by the Oncology Institute\\n      that has repeatedly appeared in the machine learning literature.\\n      (See also breast-cancer and primary-tumor.)\\n \\n 5. Number of Instances: 148\\n \\n 6. Number of Attributes: 19 including the class attribute\\n \\n 7. Attribute information:\\n     --- NOTE: All attribute values in the database have been entered as\\n               numeric values corresponding to their index in the list\\n               of attribute values for that attribute domain as given below.\\n     1. class: normal find, metastases, malign lymph, fibrosis\\n     2. lymphatics: normal, arched, deformed, displaced\\n     3. block of affere: no, yes\\n     4. bl. of lymph. c: no, yes\\n     5. bl. of lymph. s: no, yes\\n     6. by pass: no, yes\\n     7. extravasates: no, yes\\n     8. regeneration of: no, yes\\n     9. early uptake in: no, yes\\n    10. lym.nodes dimin: 0-3\\n    11. lym.nodes enlar: 1-4\\n    12. changes in lym.: bean, oval, round\\n    13. defect in node: no, lacunar, lac. marginal, lac. central\\n    14. changes in node: no, lacunar, lac. margin, lac. central\\n    15. changes in stru: no, grainy, drop-like, coarse, diluted, reticular, \\n                         stripped, faint, \\n    16. special forms: no, chalices, vesicles\\n    17. dislocation of: no, yes\\n    18. exclusion of no: no, yes\\n    19. no. of nodes in: 0-9, 10-19, 20-29, 30-39, 40-49, 50-59, 60-69, >=70\\n \\n 8. Missing Attribute Values: None\\n \\n 9. Class Distribution: \\n     Class:        Number of Instances:\\n     normal find:  2\\n     metastases:   81\\n     malign lymph: 61\\n     fibrosis:     4\\n \\n \\n\\n\\n\\n\\n Relabeled values in attribute 'lymphatics'\\n    From: '1'                     To: normal              \\n    From: '2'                     To: arched              \\n    From: '3'                     To: deformed            \\n    From: '4'                     To: displaced           \\n\\n\\n Relabeled values in attribute 'block_of_affere'\\n    From: '1'                     To: no                  \\n    From: '2'                     To: yes                 \\n\\n\\n Relabeled values in attribute 'bl_of_lymph_c'\\n    From: '1'                     To: no                  \\n    From: '2'                     To: yes                 \\n\\n\\n Relabeled values in attribute 'bl_of_lymph_s'\\n    From: '1'                     To: no                  \\n    From: '2'                     To: yes                 \\n\\n\\n Relabeled values in attribute 'by_pass'\\n    From: '1'                     To: no                  \\n    From: '2'                     To: yes                 \\n\\n\\n Relabeled values in attribute 'extravasates'\\n    From: '1'                     To: no                  \\n    From: '2'                     To: yes                 \\n\\n\\n Relabeled values in attribute 'regeneration_of'\\n    From: '1'                     To: no                  \\n    From: '2'                     To: yes                 \\n\\n\\n Relabeled values in attribute 'early_uptake_in'\\n    From: '1'                     To: no                  \\n    From: '2'                     To: yes                 \\n\\n\\n Relabeled values in attribute 'changes_in_lym'\\n    From: '1'                     To: bean                \\n    From: '2'                     To: oval                \\n    From: '3'                     To: round               \\n\\n\\n Relabeled values in attribute 'defect_in_node'\\n    From: '1'                     To: no                  \\n    From: '2'                     To: lacunar             \\n    From: '3'                     To: lac_margin          \\n    From: '4'                     To: lac_central         \\n\\n\\n Relabeled values in attribute 'changes_in_node'\\n    From: '1'                     To: no                  \\n    From: '2'                     To: lacunar             \\n    From: '3'                     To: lac_margin          \\n    From: '4'                     To: lac_central         \\n\\n\\n Relabeled values in attribute 'changes_in_stru'\\n    From: '1'                     To: no                  \\n    From: '2'                     To: grainy              \\n    From: '3'                     To: drop_like           \\n    From: '4'                     To: coarse              \\n    From: '5'                     To: diluted             \\n    From: '6'                     To: reticular           \\n    From: '7'                     To: stripped            \\n    From: '8'                     To: faint               \\n\\n\\n Relabeled values in attribute 'special_forms'\\n    From: '1'                     To: no                  \\n    From: '2'                     To: chalices            \\n    From: '3'                     To: vesicles            \\n\\n\\n Relabeled values in attribute 'dislocation_of'\\n    From: '1'                     To: no                  \\n    From: '2'                     To: yes                 \\n\\n\\n Relabeled values in attribute 'exclusion_of_no'\\n    From: '1'                     To: no                  \\n    From: '2'                     To: yes                 \\n\\n\\n Relabeled values in attribute 'class'\\n    From: '1'                     To: normal              \\n    From: '2'                     To: metastases          \\n    From: '3'                     To: malign_lymph        \\n    From: '4'                     To: fibrosis\\n\\nDownloaded from openml.org.\",\n",
              " 'details': {'id': '10',\n",
              "  'name': 'lymph',\n",
              "  'version': '1',\n",
              "  'description_version': '1',\n",
              "  'format': 'ARFF',\n",
              "  'creator': 'Institute of Oncology Ljubljana',\n",
              "  'contributor': ['Igor Kononenko', 'Bojan Cestnik'],\n",
              "  'collection_date': '1988-11-01',\n",
              "  'upload_date': '2014-04-06T23:19:52',\n",
              "  'language': 'English',\n",
              "  'licence': 'Public',\n",
              "  'url': 'https://api.openml.org/data/v1/download/10/lymph.arff',\n",
              "  'parquet_url': 'https://openml1.win.tue.nl/datasets/0000/0010/dataset_10.pq',\n",
              "  'file_id': '10',\n",
              "  'default_target_attribute': 'class',\n",
              "  'version_label': '1',\n",
              "  'citation': 'Institute of Oncology Ljubljana',\n",
              "  'tag': ['Machine Learning',\n",
              "   'Medicine',\n",
              "   'study_1',\n",
              "   'study_41',\n",
              "   'study_7',\n",
              "   'study_88',\n",
              "   'uci'],\n",
              "  'visibility': 'public',\n",
              "  'original_data_url': 'https://archive.ics.uci.edu/ml/datasets/Lymphography',\n",
              "  'paper_url': 'https://www.researchgate.net/profile/Bojan-Cestnik/publication/221112466_ASSISTANT_86_A_Knowledge-Elicitation_Tool_for_Sophisticated_Users/links/5f805cef92851c14bcb940ff/ASSISTANT-86-A-Knowledge-Elicitation-Tool-for-Sophisticated-Users.pdf',\n",
              "  'minio_url': 'https://openml1.win.tue.nl/datasets/0000/0010/dataset_10.pq',\n",
              "  'status': 'active',\n",
              "  'processing_date': '2020-11-20 19:32:23',\n",
              "  'md5_checksum': 'f91f03d0535d532c8795787a51005caf'},\n",
              " 'url': 'https://www.openml.org/d/10'}"
            ]
          },
          "metadata": {},
          "execution_count": 2
        }
      ]
    },
    {
      "cell_type": "code",
      "source": [
        "fetch_openml(name='car')"
      ],
      "metadata": {
        "colab": {
          "base_uri": "https://localhost:8080/"
        },
        "id": "8T_iWRG1mvpG",
        "outputId": "b165ee25-0f98-48bb-c58c-ef31027493da"
      },
      "execution_count": 3,
      "outputs": [
        {
          "output_type": "stream",
          "name": "stderr",
          "text": [
            "/usr/local/lib/python3.10/dist-packages/sklearn/datasets/_openml.py:320: UserWarning: Multiple active versions of the dataset matching the name car exist. Versions may be fundamentally different, returning version 2. Available versions:\n",
            "- version 2, status: active\n",
            "  url: https://www.openml.org/search?type=data&id=991\n",
            "- version 3, status: active\n",
            "  url: https://www.openml.org/search?type=data&id=40975\n",
            "\n",
            "  warn(warning_msg)\n"
          ]
        },
        {
          "output_type": "execute_result",
          "data": {
            "text/plain": [
              "{'data':      buying  maint  doors persons lug_boot safety\n",
              " 0     vhigh  vhigh      2       2    small    low\n",
              " 1     vhigh  vhigh      2       2    small    med\n",
              " 2     vhigh  vhigh      2       2    small   high\n",
              " 3     vhigh  vhigh      2       2      med    low\n",
              " 4     vhigh  vhigh      2       2      med    med\n",
              " ...     ...    ...    ...     ...      ...    ...\n",
              " 1723    low    low  5more    more      med    med\n",
              " 1724    low    low  5more    more      med   high\n",
              " 1725    low    low  5more    more      big    low\n",
              " 1726    low    low  5more    more      big    med\n",
              " 1727    low    low  5more    more      big   high\n",
              " \n",
              " [1728 rows x 6 columns],\n",
              " 'target': 0       P\n",
              " 1       P\n",
              " 2       P\n",
              " 3       P\n",
              " 4       P\n",
              "        ..\n",
              " 1723    N\n",
              " 1724    N\n",
              " 1725    P\n",
              " 1726    N\n",
              " 1727    N\n",
              " Name: binaryClass, Length: 1728, dtype: category\n",
              " Categories (2, object): ['N', 'P'],\n",
              " 'frame':      buying  maint  doors persons lug_boot safety binaryClass\n",
              " 0     vhigh  vhigh      2       2    small    low           P\n",
              " 1     vhigh  vhigh      2       2    small    med           P\n",
              " 2     vhigh  vhigh      2       2    small   high           P\n",
              " 3     vhigh  vhigh      2       2      med    low           P\n",
              " 4     vhigh  vhigh      2       2      med    med           P\n",
              " ...     ...    ...    ...     ...      ...    ...         ...\n",
              " 1723    low    low  5more    more      med    med           N\n",
              " 1724    low    low  5more    more      med   high           N\n",
              " 1725    low    low  5more    more      big    low           P\n",
              " 1726    low    low  5more    more      big    med           N\n",
              " 1727    low    low  5more    more      big   high           N\n",
              " \n",
              " [1728 rows x 7 columns],\n",
              " 'categories': None,\n",
              " 'feature_names': ['buying',\n",
              "  'maint',\n",
              "  'doors',\n",
              "  'persons',\n",
              "  'lug_boot',\n",
              "  'safety'],\n",
              " 'target_names': ['binaryClass'],\n",
              " 'DESCR': \"**Author**:   \\n**Source**: Unknown - Date unknown  \\n**Please cite**:   \\n\\nBinarized version of the original data set (see version 1). The multi-class target feature is converted to a two-class nominal target feature by re-labeling the majority class as positive ('P') and all others as negative ('N'). Originally converted by Quan Sun.\\n\\nDownloaded from openml.org.\",\n",
              " 'details': {'id': '991',\n",
              "  'name': 'car',\n",
              "  'version': '2',\n",
              "  'description_version': '1',\n",
              "  'format': 'ARFF',\n",
              "  'upload_date': '2014-10-04T22:44:31',\n",
              "  'licence': 'Public',\n",
              "  'url': 'https://api.openml.org/data/v1/download/53525/car.arff',\n",
              "  'parquet_url': 'https://openml1.win.tue.nl/datasets/0000/0991/dataset_991.pq',\n",
              "  'file_id': '53525',\n",
              "  'default_target_attribute': 'binaryClass',\n",
              "  'tag': ['Chemistry',\n",
              "   'derived',\n",
              "   'Life Science',\n",
              "   'mythbusting_1',\n",
              "   'study_1',\n",
              "   'study_15',\n",
              "   'study_20',\n",
              "   'study_41',\n",
              "   'study_7'],\n",
              "  'visibility': 'public',\n",
              "  'minio_url': 'https://openml1.win.tue.nl/datasets/0000/0991/dataset_991.pq',\n",
              "  'status': 'active',\n",
              "  'processing_date': '2020-11-20 20:17:54',\n",
              "  'md5_checksum': '49c57b793eef1b8e55f297e5e019fdbf'},\n",
              " 'url': 'https://www.openml.org/d/991'}"
            ]
          },
          "metadata": {},
          "execution_count": 3
        }
      ]
    },
    {
      "cell_type": "markdown",
      "source": [
        "Loading the data"
      ],
      "metadata": {
        "id": "_D9kaJh6m3YO"
      }
    },
    {
      "cell_type": "code",
      "source": [
        "car_data=fetch_openml(name='car',version=2,parser='auto')"
      ],
      "metadata": {
        "id": "ukr6lJ1Bm6fx"
      },
      "execution_count": 4,
      "outputs": []
    },
    {
      "cell_type": "code",
      "source": [
        "from sklearn.datasets import fetch_openml\n",
        "car_data=fetch_openml(name='car',version=2,parser='auto')"
      ],
      "metadata": {
        "id": "dg1zDn0Dn6OO"
      },
      "execution_count": 6,
      "outputs": []
    },
    {
      "cell_type": "code",
      "source": [
        "type (car_data)"
      ],
      "metadata": {
        "colab": {
          "base_uri": "https://localhost:8080/",
          "height": 186
        },
        "id": "UA8zBarZpJeh",
        "outputId": "157caa4d-c772-46b8-9d8e-7738d8897138"
      },
      "execution_count": 7,
      "outputs": [
        {
          "output_type": "execute_result",
          "data": {
            "text/plain": [
              "sklearn.utils._bunch.Bunch"
            ],
            "text/html": [
              "<div style=\"max-width:800px; border: 1px solid var(--colab-border-color);\"><style>\n",
              "      pre.function-repr-contents {\n",
              "        overflow-x: auto;\n",
              "        padding: 8px 12px;\n",
              "        max-height: 500px;\n",
              "      }\n",
              "\n",
              "      pre.function-repr-contents.function-repr-contents-collapsed {\n",
              "        cursor: pointer;\n",
              "        max-height: 100px;\n",
              "      }\n",
              "    </style>\n",
              "    <pre style=\"white-space: initial; background:\n",
              "         var(--colab-secondary-surface-color); padding: 8px 12px;\n",
              "         border-bottom: 1px solid var(--colab-border-color);\"><b>sklearn.utils._bunch.Bunch</b><br/>def __init__(**kwargs)</pre><pre class=\"function-repr-contents function-repr-contents-collapsed\" style=\"\"><a class=\"filepath\" style=\"display:none\" href=\"#\">/usr/local/lib/python3.10/dist-packages/sklearn/utils/_bunch.py</a>Container object exposing keys as attributes.\n",
              "\n",
              "Bunch objects are sometimes used as an output for functions and methods.\n",
              "They extend dictionaries by enabling values to be accessed by key,\n",
              "`bunch[&quot;value_key&quot;]`, or by an attribute, `bunch.value_key`.\n",
              "\n",
              "Examples\n",
              "--------\n",
              "&gt;&gt;&gt; from sklearn.utils import Bunch\n",
              "&gt;&gt;&gt; b = Bunch(a=1, b=2)\n",
              "&gt;&gt;&gt; b[&#x27;b&#x27;]\n",
              "2\n",
              "&gt;&gt;&gt; b.b\n",
              "2\n",
              "&gt;&gt;&gt; b.a = 3\n",
              "&gt;&gt;&gt; b[&#x27;a&#x27;]\n",
              "3\n",
              "&gt;&gt;&gt; b.c = 6\n",
              "&gt;&gt;&gt; b[&#x27;c&#x27;]\n",
              "6</pre>\n",
              "      <script>\n",
              "      if (google.colab.kernel.accessAllowed && google.colab.files && google.colab.files.view) {\n",
              "        for (const element of document.querySelectorAll('.filepath')) {\n",
              "          element.style.display = 'block'\n",
              "          element.onclick = (event) => {\n",
              "            event.preventDefault();\n",
              "            event.stopPropagation();\n",
              "            google.colab.files.view(element.textContent, 4);\n",
              "          };\n",
              "        }\n",
              "      }\n",
              "      for (const element of document.querySelectorAll('.function-repr-contents')) {\n",
              "        element.onclick = (event) => {\n",
              "          event.preventDefault();\n",
              "          event.stopPropagation();\n",
              "          element.classList.toggle('function-repr-contents-collapsed');\n",
              "        };\n",
              "      }\n",
              "      </script>\n",
              "      </div>"
            ]
          },
          "metadata": {},
          "execution_count": 7
        }
      ]
    },
    {
      "cell_type": "code",
      "source": [
        "car_data.keys()"
      ],
      "metadata": {
        "colab": {
          "base_uri": "https://localhost:8080/"
        },
        "id": "-Q7-5gLvqggD",
        "outputId": "9f8dffc1-9ddb-4fb4-86dd-3b4a84aa49d5"
      },
      "execution_count": 8,
      "outputs": [
        {
          "output_type": "execute_result",
          "data": {
            "text/plain": [
              "dict_keys(['data', 'target', 'frame', 'categories', 'feature_names', 'target_names', 'DESCR', 'details', 'url'])"
            ]
          },
          "metadata": {},
          "execution_count": 8
        }
      ]
    },
    {
      "cell_type": "code",
      "source": [
        "car_data.feature_names,car_data.target.value_counts()"
      ],
      "metadata": {
        "colab": {
          "base_uri": "https://localhost:8080/"
        },
        "id": "Sw5ePZBdq6gD",
        "outputId": "52404414-2d1b-44a1-a347-c3f197165874"
      },
      "execution_count": 9,
      "outputs": [
        {
          "output_type": "execute_result",
          "data": {
            "text/plain": [
              "(['buying', 'maint', 'doors', 'persons', 'lug_boot', 'safety'],\n",
              " binaryClass\n",
              " P    1210\n",
              " N     518\n",
              " Name: count, dtype: int64)"
            ]
          },
          "metadata": {},
          "execution_count": 9
        }
      ]
    },
    {
      "cell_type": "markdown",
      "source": [
        "Data description"
      ],
      "metadata": {
        "id": "0qs5ZO38q-i3"
      }
    },
    {
      "cell_type": "code",
      "source": [
        "print(car_data.DESCR)"
      ],
      "metadata": {
        "colab": {
          "base_uri": "https://localhost:8080/"
        },
        "id": "H-y2k1DwrBtz",
        "outputId": "91c9a8fb-295f-48f6-903c-1b168947e63b"
      },
      "execution_count": 10,
      "outputs": [
        {
          "output_type": "stream",
          "name": "stdout",
          "text": [
            "**Author**:   \n",
            "**Source**: Unknown - Date unknown  \n",
            "**Please cite**:   \n",
            "\n",
            "Binarized version of the original data set (see version 1). The multi-class target feature is converted to a two-class nominal target feature by re-labeling the majority class as positive ('P') and all others as negative ('N'). Originally converted by Quan Sun.\n",
            "\n",
            "Downloaded from openml.org.\n"
          ]
        }
      ]
    },
    {
      "cell_type": "markdown",
      "source": [
        "Displaying feature names"
      ],
      "metadata": {
        "id": "3UHlkPr-rGob"
      }
    },
    {
      "cell_type": "code",
      "source": [
        "car_data.feature_names"
      ],
      "metadata": {
        "colab": {
          "base_uri": "https://localhost:8080/"
        },
        "id": "xUyO1jCZrKVC",
        "outputId": "31fb2a03-5d28-411e-f7a2-2181ec7d4cfc"
      },
      "execution_count": 11,
      "outputs": [
        {
          "output_type": "execute_result",
          "data": {
            "text/plain": [
              "['buying', 'maint', 'doors', 'persons', 'lug_boot', 'safety']"
            ]
          },
          "metadata": {},
          "execution_count": 11
        }
      ]
    },
    {
      "cell_type": "markdown",
      "source": [
        "getting the whole dataframe"
      ],
      "metadata": {
        "id": "-djUj8SArPCI"
      }
    },
    {
      "cell_type": "code",
      "source": [
        "car_data=car_data.frame\n",
        "car_data.head()"
      ],
      "metadata": {
        "colab": {
          "base_uri": "https://localhost:8080/",
          "height": 206
        },
        "id": "ik6M4_RjrRqq",
        "outputId": "c20f7627-1cb7-416a-9b28-a79fcf0949d2"
      },
      "execution_count": 12,
      "outputs": [
        {
          "output_type": "execute_result",
          "data": {
            "text/plain": [
              "  buying  maint doors persons lug_boot safety binaryClass\n",
              "0  vhigh  vhigh     2       2    small    low           P\n",
              "1  vhigh  vhigh     2       2    small    med           P\n",
              "2  vhigh  vhigh     2       2    small   high           P\n",
              "3  vhigh  vhigh     2       2      med    low           P\n",
              "4  vhigh  vhigh     2       2      med    med           P"
            ],
            "text/html": [
              "\n",
              "  <div id=\"df-5143df73-b73c-4513-b734-76a72ccf45c5\" class=\"colab-df-container\">\n",
              "    <div>\n",
              "<style scoped>\n",
              "    .dataframe tbody tr th:only-of-type {\n",
              "        vertical-align: middle;\n",
              "    }\n",
              "\n",
              "    .dataframe tbody tr th {\n",
              "        vertical-align: top;\n",
              "    }\n",
              "\n",
              "    .dataframe thead th {\n",
              "        text-align: right;\n",
              "    }\n",
              "</style>\n",
              "<table border=\"1\" class=\"dataframe\">\n",
              "  <thead>\n",
              "    <tr style=\"text-align: right;\">\n",
              "      <th></th>\n",
              "      <th>buying</th>\n",
              "      <th>maint</th>\n",
              "      <th>doors</th>\n",
              "      <th>persons</th>\n",
              "      <th>lug_boot</th>\n",
              "      <th>safety</th>\n",
              "      <th>binaryClass</th>\n",
              "    </tr>\n",
              "  </thead>\n",
              "  <tbody>\n",
              "    <tr>\n",
              "      <th>0</th>\n",
              "      <td>vhigh</td>\n",
              "      <td>vhigh</td>\n",
              "      <td>2</td>\n",
              "      <td>2</td>\n",
              "      <td>small</td>\n",
              "      <td>low</td>\n",
              "      <td>P</td>\n",
              "    </tr>\n",
              "    <tr>\n",
              "      <th>1</th>\n",
              "      <td>vhigh</td>\n",
              "      <td>vhigh</td>\n",
              "      <td>2</td>\n",
              "      <td>2</td>\n",
              "      <td>small</td>\n",
              "      <td>med</td>\n",
              "      <td>P</td>\n",
              "    </tr>\n",
              "    <tr>\n",
              "      <th>2</th>\n",
              "      <td>vhigh</td>\n",
              "      <td>vhigh</td>\n",
              "      <td>2</td>\n",
              "      <td>2</td>\n",
              "      <td>small</td>\n",
              "      <td>high</td>\n",
              "      <td>P</td>\n",
              "    </tr>\n",
              "    <tr>\n",
              "      <th>3</th>\n",
              "      <td>vhigh</td>\n",
              "      <td>vhigh</td>\n",
              "      <td>2</td>\n",
              "      <td>2</td>\n",
              "      <td>med</td>\n",
              "      <td>low</td>\n",
              "      <td>P</td>\n",
              "    </tr>\n",
              "    <tr>\n",
              "      <th>4</th>\n",
              "      <td>vhigh</td>\n",
              "      <td>vhigh</td>\n",
              "      <td>2</td>\n",
              "      <td>2</td>\n",
              "      <td>med</td>\n",
              "      <td>med</td>\n",
              "      <td>P</td>\n",
              "    </tr>\n",
              "  </tbody>\n",
              "</table>\n",
              "</div>\n",
              "    <div class=\"colab-df-buttons\">\n",
              "\n",
              "  <div class=\"colab-df-container\">\n",
              "    <button class=\"colab-df-convert\" onclick=\"convertToInteractive('df-5143df73-b73c-4513-b734-76a72ccf45c5')\"\n",
              "            title=\"Convert this dataframe to an interactive table.\"\n",
              "            style=\"display:none;\">\n",
              "\n",
              "  <svg xmlns=\"http://www.w3.org/2000/svg\" height=\"24px\" viewBox=\"0 -960 960 960\">\n",
              "    <path d=\"M120-120v-720h720v720H120Zm60-500h600v-160H180v160Zm220 220h160v-160H400v160Zm0 220h160v-160H400v160ZM180-400h160v-160H180v160Zm440 0h160v-160H620v160ZM180-180h160v-160H180v160Zm440 0h160v-160H620v160Z\"/>\n",
              "  </svg>\n",
              "    </button>\n",
              "\n",
              "  <style>\n",
              "    .colab-df-container {\n",
              "      display:flex;\n",
              "      gap: 12px;\n",
              "    }\n",
              "\n",
              "    .colab-df-convert {\n",
              "      background-color: #E8F0FE;\n",
              "      border: none;\n",
              "      border-radius: 50%;\n",
              "      cursor: pointer;\n",
              "      display: none;\n",
              "      fill: #1967D2;\n",
              "      height: 32px;\n",
              "      padding: 0 0 0 0;\n",
              "      width: 32px;\n",
              "    }\n",
              "\n",
              "    .colab-df-convert:hover {\n",
              "      background-color: #E2EBFA;\n",
              "      box-shadow: 0px 1px 2px rgba(60, 64, 67, 0.3), 0px 1px 3px 1px rgba(60, 64, 67, 0.15);\n",
              "      fill: #174EA6;\n",
              "    }\n",
              "\n",
              "    .colab-df-buttons div {\n",
              "      margin-bottom: 4px;\n",
              "    }\n",
              "\n",
              "    [theme=dark] .colab-df-convert {\n",
              "      background-color: #3B4455;\n",
              "      fill: #D2E3FC;\n",
              "    }\n",
              "\n",
              "    [theme=dark] .colab-df-convert:hover {\n",
              "      background-color: #434B5C;\n",
              "      box-shadow: 0px 1px 3px 1px rgba(0, 0, 0, 0.15);\n",
              "      filter: drop-shadow(0px 1px 2px rgba(0, 0, 0, 0.3));\n",
              "      fill: #FFFFFF;\n",
              "    }\n",
              "  </style>\n",
              "\n",
              "    <script>\n",
              "      const buttonEl =\n",
              "        document.querySelector('#df-5143df73-b73c-4513-b734-76a72ccf45c5 button.colab-df-convert');\n",
              "      buttonEl.style.display =\n",
              "        google.colab.kernel.accessAllowed ? 'block' : 'none';\n",
              "\n",
              "      async function convertToInteractive(key) {\n",
              "        const element = document.querySelector('#df-5143df73-b73c-4513-b734-76a72ccf45c5');\n",
              "        const dataTable =\n",
              "          await google.colab.kernel.invokeFunction('convertToInteractive',\n",
              "                                                    [key], {});\n",
              "        if (!dataTable) return;\n",
              "\n",
              "        const docLinkHtml = 'Like what you see? Visit the ' +\n",
              "          '<a target=\"_blank\" href=https://colab.research.google.com/notebooks/data_table.ipynb>data table notebook</a>'\n",
              "          + ' to learn more about interactive tables.';\n",
              "        element.innerHTML = '';\n",
              "        dataTable['output_type'] = 'display_data';\n",
              "        await google.colab.output.renderOutput(dataTable, element);\n",
              "        const docLink = document.createElement('div');\n",
              "        docLink.innerHTML = docLinkHtml;\n",
              "        element.appendChild(docLink);\n",
              "      }\n",
              "    </script>\n",
              "  </div>\n",
              "\n",
              "\n",
              "<div id=\"df-432bacfc-af7d-4a80-a17a-949da73d72f4\">\n",
              "  <button class=\"colab-df-quickchart\" onclick=\"quickchart('df-432bacfc-af7d-4a80-a17a-949da73d72f4')\"\n",
              "            title=\"Suggest charts\"\n",
              "            style=\"display:none;\">\n",
              "\n",
              "<svg xmlns=\"http://www.w3.org/2000/svg\" height=\"24px\"viewBox=\"0 0 24 24\"\n",
              "     width=\"24px\">\n",
              "    <g>\n",
              "        <path d=\"M19 3H5c-1.1 0-2 .9-2 2v14c0 1.1.9 2 2 2h14c1.1 0 2-.9 2-2V5c0-1.1-.9-2-2-2zM9 17H7v-7h2v7zm4 0h-2V7h2v10zm4 0h-2v-4h2v4z\"/>\n",
              "    </g>\n",
              "</svg>\n",
              "  </button>\n",
              "\n",
              "<style>\n",
              "  .colab-df-quickchart {\n",
              "      --bg-color: #E8F0FE;\n",
              "      --fill-color: #1967D2;\n",
              "      --hover-bg-color: #E2EBFA;\n",
              "      --hover-fill-color: #174EA6;\n",
              "      --disabled-fill-color: #AAA;\n",
              "      --disabled-bg-color: #DDD;\n",
              "  }\n",
              "\n",
              "  [theme=dark] .colab-df-quickchart {\n",
              "      --bg-color: #3B4455;\n",
              "      --fill-color: #D2E3FC;\n",
              "      --hover-bg-color: #434B5C;\n",
              "      --hover-fill-color: #FFFFFF;\n",
              "      --disabled-bg-color: #3B4455;\n",
              "      --disabled-fill-color: #666;\n",
              "  }\n",
              "\n",
              "  .colab-df-quickchart {\n",
              "    background-color: var(--bg-color);\n",
              "    border: none;\n",
              "    border-radius: 50%;\n",
              "    cursor: pointer;\n",
              "    display: none;\n",
              "    fill: var(--fill-color);\n",
              "    height: 32px;\n",
              "    padding: 0;\n",
              "    width: 32px;\n",
              "  }\n",
              "\n",
              "  .colab-df-quickchart:hover {\n",
              "    background-color: var(--hover-bg-color);\n",
              "    box-shadow: 0 1px 2px rgba(60, 64, 67, 0.3), 0 1px 3px 1px rgba(60, 64, 67, 0.15);\n",
              "    fill: var(--button-hover-fill-color);\n",
              "  }\n",
              "\n",
              "  .colab-df-quickchart-complete:disabled,\n",
              "  .colab-df-quickchart-complete:disabled:hover {\n",
              "    background-color: var(--disabled-bg-color);\n",
              "    fill: var(--disabled-fill-color);\n",
              "    box-shadow: none;\n",
              "  }\n",
              "\n",
              "  .colab-df-spinner {\n",
              "    border: 2px solid var(--fill-color);\n",
              "    border-color: transparent;\n",
              "    border-bottom-color: var(--fill-color);\n",
              "    animation:\n",
              "      spin 1s steps(1) infinite;\n",
              "  }\n",
              "\n",
              "  @keyframes spin {\n",
              "    0% {\n",
              "      border-color: transparent;\n",
              "      border-bottom-color: var(--fill-color);\n",
              "      border-left-color: var(--fill-color);\n",
              "    }\n",
              "    20% {\n",
              "      border-color: transparent;\n",
              "      border-left-color: var(--fill-color);\n",
              "      border-top-color: var(--fill-color);\n",
              "    }\n",
              "    30% {\n",
              "      border-color: transparent;\n",
              "      border-left-color: var(--fill-color);\n",
              "      border-top-color: var(--fill-color);\n",
              "      border-right-color: var(--fill-color);\n",
              "    }\n",
              "    40% {\n",
              "      border-color: transparent;\n",
              "      border-right-color: var(--fill-color);\n",
              "      border-top-color: var(--fill-color);\n",
              "    }\n",
              "    60% {\n",
              "      border-color: transparent;\n",
              "      border-right-color: var(--fill-color);\n",
              "    }\n",
              "    80% {\n",
              "      border-color: transparent;\n",
              "      border-right-color: var(--fill-color);\n",
              "      border-bottom-color: var(--fill-color);\n",
              "    }\n",
              "    90% {\n",
              "      border-color: transparent;\n",
              "      border-bottom-color: var(--fill-color);\n",
              "    }\n",
              "  }\n",
              "</style>\n",
              "\n",
              "  <script>\n",
              "    async function quickchart(key) {\n",
              "      const quickchartButtonEl =\n",
              "        document.querySelector('#' + key + ' button');\n",
              "      quickchartButtonEl.disabled = true;  // To prevent multiple clicks.\n",
              "      quickchartButtonEl.classList.add('colab-df-spinner');\n",
              "      try {\n",
              "        const charts = await google.colab.kernel.invokeFunction(\n",
              "            'suggestCharts', [key], {});\n",
              "      } catch (error) {\n",
              "        console.error('Error during call to suggestCharts:', error);\n",
              "      }\n",
              "      quickchartButtonEl.classList.remove('colab-df-spinner');\n",
              "      quickchartButtonEl.classList.add('colab-df-quickchart-complete');\n",
              "    }\n",
              "    (() => {\n",
              "      let quickchartButtonEl =\n",
              "        document.querySelector('#df-432bacfc-af7d-4a80-a17a-949da73d72f4 button');\n",
              "      quickchartButtonEl.style.display =\n",
              "        google.colab.kernel.accessAllowed ? 'block' : 'none';\n",
              "    })();\n",
              "  </script>\n",
              "</div>\n",
              "\n",
              "    </div>\n",
              "  </div>\n"
            ],
            "application/vnd.google.colaboratory.intrinsic+json": {
              "type": "dataframe",
              "variable_name": "car_data",
              "summary": "{\n  \"name\": \"car_data\",\n  \"rows\": 1728,\n  \"fields\": [\n    {\n      \"column\": \"buying\",\n      \"properties\": {\n        \"dtype\": \"category\",\n        \"num_unique_values\": 4,\n        \"samples\": [\n          \"high\",\n          \"low\",\n          \"vhigh\"\n        ],\n        \"semantic_type\": \"\",\n        \"description\": \"\"\n      }\n    },\n    {\n      \"column\": \"maint\",\n      \"properties\": {\n        \"dtype\": \"category\",\n        \"num_unique_values\": 4,\n        \"samples\": [\n          \"high\",\n          \"low\",\n          \"vhigh\"\n        ],\n        \"semantic_type\": \"\",\n        \"description\": \"\"\n      }\n    },\n    {\n      \"column\": \"doors\",\n      \"properties\": {\n        \"dtype\": \"category\",\n        \"num_unique_values\": 4,\n        \"samples\": [\n          \"3\",\n          \"5more\",\n          \"2\"\n        ],\n        \"semantic_type\": \"\",\n        \"description\": \"\"\n      }\n    },\n    {\n      \"column\": \"persons\",\n      \"properties\": {\n        \"dtype\": \"category\",\n        \"num_unique_values\": 3,\n        \"samples\": [\n          \"2\",\n          \"4\",\n          \"more\"\n        ],\n        \"semantic_type\": \"\",\n        \"description\": \"\"\n      }\n    },\n    {\n      \"column\": \"lug_boot\",\n      \"properties\": {\n        \"dtype\": \"category\",\n        \"num_unique_values\": 3,\n        \"samples\": [\n          \"small\",\n          \"med\",\n          \"big\"\n        ],\n        \"semantic_type\": \"\",\n        \"description\": \"\"\n      }\n    },\n    {\n      \"column\": \"safety\",\n      \"properties\": {\n        \"dtype\": \"category\",\n        \"num_unique_values\": 3,\n        \"samples\": [\n          \"low\",\n          \"med\",\n          \"high\"\n        ],\n        \"semantic_type\": \"\",\n        \"description\": \"\"\n      }\n    },\n    {\n      \"column\": \"binaryClass\",\n      \"properties\": {\n        \"dtype\": \"category\",\n        \"num_unique_values\": 2,\n        \"samples\": [\n          \"N\",\n          \"P\"\n        ],\n        \"semantic_type\": \"\",\n        \"description\": \"\"\n      }\n    }\n  ]\n}"
            }
          },
          "metadata": {},
          "execution_count": 12
        }
      ]
    },
    {
      "cell_type": "code",
      "source": [],
      "metadata": {
        "id": "g5FbbgcosJT8"
      },
      "execution_count": null,
      "outputs": []
    }
  ]
}