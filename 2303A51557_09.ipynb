{
  "nbformat": 4,
  "nbformat_minor": 0,
  "metadata": {
    "colab": {
      "provenance": [],
      "authorship_tag": "ABX9TyPGixu554JNyQGDDY4UyRPS",
      "include_colab_link": true
    },
    "kernelspec": {
      "name": "python3",
      "display_name": "Python 3"
    },
    "language_info": {
      "name": "python"
    }
  },
  "cells": [
    {
      "cell_type": "markdown",
      "metadata": {
        "id": "view-in-github",
        "colab_type": "text"
      },
      "source": [
        "<a href=\"https://colab.research.google.com/github/Tejasri1557/AIML-2025/blob/main/2303A51557_09.ipynb\" target=\"_parent\"><img src=\"https://colab.research.google.com/assets/colab-badge.svg\" alt=\"Open In Colab\"/></a>"
      ]
    },
    {
      "cell_type": "markdown",
      "source": [
        "Assessing Mathematical Learning in Higher Education\n",
        "Q1: Identify the Math topic which is most hard to learn?\n",
        "Q2: List the top5 math sub-topics for the students?\n",
        "Q3. Identify the questions level most solved by the students?\n",
        "Q4: Name the country with most solved math problems?\n",
        "Q5: List top 10 keywords related to math topics most searched for?\n"
      ],
      "metadata": {
        "id": "ddGWCv1R3Iy5"
      }
    },
    {
      "cell_type": "code",
      "source": [
        "import numpy as np\n",
        "import pandas as pd\n",
        "from sklearn.linear_model import LinearRegression\n",
        "from sklearn.model_selection import train_test_split\n",
        "\n",
        "# Simulated data: Topics, number of students, average grade, and difficulty score\n",
        "data = {\n",
        "    'Topic': ['Abstract Algebra', 'Calculus', 'Differential Equations', 'Topology', 'Real Analysis', 'Linear Algebra', 'Probability and Statistics'],\n",
        "    'Num_Students': [300, 500, 350, 100, 450, 400, 600],\n",
        "    'Avg_Grade': [65, 85, 70, 60, 75, 80, 78],  # Simulating average student performance\n",
        "    'Difficulty_Score': [9, 7, 8, 10, 9, 6, 5]  # Difficulty from 1 (easy) to 10 (hard)\n",
        "}\n",
        "\n",
        "# Convert data into DataFrame\n",
        "df = pd.DataFrame(data)\n",
        "\n",
        "# Features (independent variables) and target (dependent variable)\n",
        "X = df[['Num_Students', 'Avg_Grade']]  # Features\n",
        "y = df['Difficulty_Score']  # Target variable (Difficulty Score)\n",
        "\n",
        "# Train-test split\n",
        "X_train, X_test, y_train, y_test = train_test_split(X, y, test_size=0.2, random_state=42)\n",
        "\n",
        "# Train a regression model\n",
        "model = LinearRegression()\n",
        "model.fit(X_train, y_train)\n",
        "\n",
        "# Predict the difficulty for a topic\n",
        "predicted_difficulty = model.predict([[500, 80]])  # Example: 500 students, avg grade of 80\n",
        "print(f\"Predicted difficulty score: {predicted_difficulty[0]}\")\n"
      ],
      "metadata": {
        "colab": {
          "base_uri": "https://localhost:8080/"
        },
        "id": "UOLAVUplFqs_",
        "outputId": "56d2791f-696b-4d82-e9fe-1053f0b5422f"
      },
      "execution_count": 25,
      "outputs": [
        {
          "output_type": "stream",
          "name": "stdout",
          "text": [
            "Predicted difficulty score: 6.143495753240948\n"
          ]
        },
        {
          "output_type": "stream",
          "name": "stderr",
          "text": [
            "/usr/local/lib/python3.10/dist-packages/sklearn/base.py:493: UserWarning: X does not have valid feature names, but LinearRegression was fitted with feature names\n",
            "  warnings.warn(\n"
          ]
        }
      ]
    },
    {
      "cell_type": "code",
      "source": [
        "from sklearn.cluster import KMeans\n",
        "\n",
        "# Simulated data: Sub-topics and student interest (number of students studying each sub-topic)\n",
        "sub_topics_data = {\n",
        "    'Sub_Topic': ['Calculus', 'Linear Algebra', 'Probability and Statistics', 'Abstract Algebra', 'Differential Equations', 'Geometry', 'Matrix Operations', 'Number Theory'],\n",
        "    'Interest_Score': [85, 90, 88, 70, 75, 65, 80, 78]\n",
        "}\n",
        "\n",
        "# Convert data into DataFrame\n",
        "sub_topics_df = pd.DataFrame(sub_topics_data)\n",
        "\n",
        "# Use KMeans to group sub-topics into clusters\n",
        "kmeans = KMeans(n_clusters=5, random_state=42)\n",
        "sub_topics_df['Cluster'] = kmeans.fit_predict(sub_topics_df[['Interest_Score']])\n",
        "\n",
        "# Display top 5 sub-topics based on their interest scores\n",
        "top_5_sub_topics = sub_topics_df.sort_values(by='Interest_Score', ascending=False).head(5)\n",
        "print(\"Top 5 math sub-topics based on interest:\")\n",
        "print(top_5_sub_topics[['Sub_Topic', 'Interest_Score']])\n"
      ],
      "metadata": {
        "colab": {
          "base_uri": "https://localhost:8080/"
        },
        "id": "9z7GdCuCFwAU",
        "outputId": "102277d7-c7d5-416c-84aa-9d39ed41a2b8"
      },
      "execution_count": 26,
      "outputs": [
        {
          "output_type": "stream",
          "name": "stdout",
          "text": [
            "Top 5 math sub-topics based on interest:\n",
            "                    Sub_Topic  Interest_Score\n",
            "1              Linear Algebra              90\n",
            "2  Probability and Statistics              88\n",
            "0                    Calculus              85\n",
            "6           Matrix Operations              80\n",
            "7               Number Theory              78\n"
          ]
        }
      ]
    },
    {
      "cell_type": "code",
      "source": [
        "from sklearn.preprocessing import LabelEncoder\n",
        "from sklearn.ensemble import RandomForestClassifier\n",
        "\n",
        "# Simulated data: Number of problems solved, time spent, and question level (target)\n",
        "data_q3 = {\n",
        "    'Num_Problems_Solved': [20, 50, 80, 30, 60, 90, 15],\n",
        "    'Time_Spent_Minutes': [15, 30, 45, 25, 35, 50, 20],\n",
        "    'Level': ['Basic', 'Intermediate', 'Advanced', 'Basic', 'Intermediate', 'Advanced', 'Basic']\n",
        "}\n",
        "\n",
        "# Convert data into DataFrame\n",
        "df_q3 = pd.DataFrame(data_q3)\n",
        "\n",
        "# Encode target labels (levels)\n",
        "encoder = LabelEncoder()\n",
        "df_q3['Level_Encoded'] = encoder.fit_transform(df_q3['Level'])\n",
        "\n",
        "# Features and target\n",
        "X_q3 = df_q3[['Num_Problems_Solved', 'Time_Spent_Minutes']]\n",
        "y_q3 = df_q3['Level_Encoded']\n",
        "\n",
        "# Train-test split\n",
        "X_train, X_test, y_train, y_test = train_test_split(X_q3, y_q3, test_size=0.2, random_state=42)\n",
        "\n",
        "# Train a RandomForest model\n",
        "rf_model = RandomForestClassifier(random_state=42)\n",
        "rf_model.fit(X_train, y_train)\n",
        "\n",
        "# Predict question level for a new student\n",
        "predicted_level = rf_model.predict([[70, 40]])  # Example: Solved 70 problems, spent 40 minutes\n",
        "predicted_level_str = encoder.inverse_transform(predicted_level)\n",
        "print(f\"Predicted question level: {predicted_level_str[0]}\")\n"
      ],
      "metadata": {
        "colab": {
          "base_uri": "https://localhost:8080/"
        },
        "id": "QvE2qiAEF0Yn",
        "outputId": "c8e86670-67d9-4334-a546-deed632beb7f"
      },
      "execution_count": 27,
      "outputs": [
        {
          "output_type": "stream",
          "name": "stdout",
          "text": [
            "Predicted question level: Intermediate\n"
          ]
        },
        {
          "output_type": "stream",
          "name": "stderr",
          "text": [
            "/usr/local/lib/python3.10/dist-packages/sklearn/base.py:493: UserWarning: X does not have valid feature names, but RandomForestClassifier was fitted with feature names\n",
            "  warnings.warn(\n"
          ]
        }
      ]
    },
    {
      "cell_type": "code",
      "source": [
        "# Simulated country data for performance in math competitions\n",
        "countries_data = {\n",
        "    'Country': ['China', 'United States', 'Russia', 'South Korea', 'India'],\n",
        "    'Math_Problems_Solved': [1500, 1300, 1200, 1100, 900]  # Simulated problems solved\n",
        "}\n",
        "\n",
        "# Convert data into DataFrame\n",
        "df_countries = pd.DataFrame(countries_data)\n",
        "\n",
        "# Identify the country with the most solved math problems\n",
        "top_country = df_countries.loc[df_countries['Math_Problems_Solved'].idxmax()]\n",
        "print(f\"Country with most solved math problems: {top_country['Country']}\")\n"
      ],
      "metadata": {
        "colab": {
          "base_uri": "https://localhost:8080/"
        },
        "id": "RWX8JnTgF5OR",
        "outputId": "ebfe22a9-a6eb-4d52-8ecc-faf6c481b018"
      },
      "execution_count": 28,
      "outputs": [
        {
          "output_type": "stream",
          "name": "stdout",
          "text": [
            "Country with most solved math problems: China\n"
          ]
        }
      ]
    },
    {
      "cell_type": "code",
      "source": [
        "from sklearn.feature_extraction.text import CountVectorizer\n",
        "from sklearn.decomposition import LatentDirichletAllocation\n",
        "\n",
        "# Simulated list of math-related search queries\n",
        "search_queries = [\n",
        "    \"Learn Algebra\",\n",
        "    \"Calculus basics\",\n",
        "    \"Introduction to Linear Algebra\",\n",
        "    \"Probability theory and statistics\",\n",
        "    \"Differential equations for beginners\",\n",
        "    \"Matrix operations\",\n",
        "    \"Understanding number theory\",\n",
        "    \"Geometry problems\",\n",
        "    \"Real analysis for beginners\",\n",
        "    \"Advanced calculus\"\n",
        "]\n",
        "\n",
        "# Vectorize the search queries\n",
        "vectorizer = CountVectorizer(stop_words='english')\n",
        "X = vectorizer.fit_transform(search_queries)\n",
        "\n",
        "# Use LDA (Latent Dirichlet Allocation) to extract top 10 keywords\n",
        "lda = LatentDirichletAllocation(n_components=1, random_state=42)\n",
        "lda.fit(X)\n",
        "\n",
        "# Get the top 10 keywords from the LDA model\n",
        "top_keywords = np.array(vectorizer.get_feature_names_out())\n",
        "keywords_scores = lda.components_[0]\n",
        "top_10_keywords = top_keywords[keywords_scores.argsort()[-10:]][::-1]\n",
        "print(\"Top 10 keywords related to math topics:\")\n",
        "for idx, keyword in enumerate(top_10_keywords, 1):\n",
        "    print(f\"{idx}. {keyword}\")\n"
      ],
      "metadata": {
        "colab": {
          "base_uri": "https://localhost:8080/"
        },
        "id": "jYEZO8x7F9Xl",
        "outputId": "318fda86-5cde-4bf0-f420-68ce5e7f8de3"
      },
      "execution_count": 29,
      "outputs": [
        {
          "output_type": "stream",
          "name": "stdout",
          "text": [
            "Top 10 keywords related to math topics:\n",
            "1. algebra\n",
            "2. beginners\n",
            "3. calculus\n",
            "4. theory\n",
            "5. understanding\n",
            "6. introduction\n",
            "7. analysis\n",
            "8. basics\n",
            "9. differential\n",
            "10. equations\n"
          ]
        }
      ]
    }
  ]
}